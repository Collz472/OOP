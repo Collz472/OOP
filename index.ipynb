{
 "cells": [
  {
   "cell_type": "markdown",
   "metadata": {},
   "source": [
    "# OOP (Object Oriented Programing)"
   ]
  },
  {
   "cell_type": "markdown",
   "metadata": {},
   "source": [
    "Object-Oriented Programming (OOP) is a programming paradigm that organizes software design around objects rather than functions or logic. An object is a self-contained unit that contains both data (attributes) and procedures (methods) that operate on the data. OOP allows developers to structure their code in a more modular, reusable, and maintainable way, making it easier to manage and scale complex software systems."
   ]
  },
  {
   "cell_type": "markdown",
   "metadata": {},
   "source": [
    "## Class"
   ]
  },
  {
   "cell_type": "markdown",
   "metadata": {},
   "source": [
    "In Object-Oriented Programming (OOP), a class is a blueprint or template for creating objects (instances). It defines a set of attributes (variables) and methods (functions) that describe the behaviors and properties of the objects created from that class. In Python, classes allow you to encapsulate related data and functions into a single unit, facilitating modularity, reusability, and organization of code"
   ]
  },
  {
   "cell_type": "code",
   "execution_count": 168,
   "metadata": {},
   "outputs": [],
   "source": [
    "# variables without class \n",
    "\n",
    "# name \n",
    "# email\n",
    "# phone\n",
    "\n",
    "name  = \"samuel karu\"\n",
    "email = \"samuel@test.com\"\n",
    "phone = \"0714 xxx xxx\"\n"
   ]
  },
  {
   "cell_type": "code",
   "execution_count": 169,
   "metadata": {},
   "outputs": [],
   "source": [
    "# defining an empty class \n",
    "class Student():\n",
    "    #object body\n",
    "    pass\n"
   ]
  },
  {
   "cell_type": "markdown",
   "metadata": {},
   "source": [
    "## instances"
   ]
  },
  {
   "cell_type": "markdown",
   "metadata": {},
   "source": [
    "An instance of a class in Object-Oriented Programming (OOP) refers to a specific object created from a class. When a class is defined, it acts as a blueprint or template, but the actual \"real-world\" objects created based on that blueprint are called instances."
   ]
  },
  {
   "cell_type": "code",
   "execution_count": 170,
   "metadata": {},
   "outputs": [],
   "source": [
    "# an instance of a class \n",
    "daniel = Student()\n",
    "samuel = Student()\n",
    "peter  =  Student()"
   ]
  },
  {
   "cell_type": "code",
   "execution_count": 171,
   "metadata": {},
   "outputs": [
    {
     "name": "stdout",
     "output_type": "stream",
     "text": [
      "<__main__.Student object at 0x740c585b9bb0>\n"
     ]
    }
   ],
   "source": [
    "# instance \n",
    "\n",
    "print(samuel)\n"
   ]
  },
  {
   "cell_type": "code",
   "execution_count": 172,
   "metadata": {},
   "outputs": [
    {
     "name": "stdout",
     "output_type": "stream",
     "text": [
      "False\n"
     ]
    }
   ],
   "source": [
    "# check Equality \n",
    "print(daniel == samuel)"
   ]
  },
  {
   "cell_type": "markdown",
   "metadata": {},
   "source": [
    "## Instance Methods "
   ]
  },
  {
   "cell_type": "markdown",
   "metadata": {},
   "source": [
    "Instance methods are functions that are defined within a class and operate on the instances (objects) of that class. They are used to define behaviors or actions that an object (instance) can perform. Instance methods can access and modify the instance's attributes (data) and can also interact with other instance methods of the same class."
   ]
  },
  {
   "cell_type": "code",
   "execution_count": 173,
   "metadata": {},
   "outputs": [],
   "source": [
    "# class with an instance method\n",
    "class Student():\n",
    "    \n",
    "    def mark_as_absent(self):\n",
    "        \n",
    "        self.absent =  True\n",
    "        \n",
    "        self.print_student_status()\n",
    "\n",
    "    def print_student_status(self):\n",
    "        \n",
    "        if self.absent :\n",
    "            print(\"student is absent\")\n",
    "        else:\n",
    "            print(\"student is present\")\n"
   ]
  },
  {
   "cell_type": "code",
   "execution_count": 174,
   "metadata": {},
   "outputs": [],
   "source": [
    "# initialitization \n",
    "\n",
    "chris = Student()\n",
    "samuel = Student()\n"
   ]
  },
  {
   "cell_type": "code",
   "execution_count": 175,
   "metadata": {},
   "outputs": [
    {
     "name": "stdout",
     "output_type": "stream",
     "text": [
      "student is absent\n"
     ]
    }
   ],
   "source": [
    "#calling the instance method chris\n",
    "chris.mark_as_absent()\n",
    "# chris.print_student_status()\n"
   ]
  },
  {
   "cell_type": "code",
   "execution_count": 176,
   "metadata": {},
   "outputs": [
    {
     "name": "stdout",
     "output_type": "stream",
     "text": [
      "student is absent\n"
     ]
    }
   ],
   "source": [
    "# checking the result samuel\n",
    "samuel.mark_as_absent()\n",
    "# samuel.print_student_status()\n",
    "\n"
   ]
  },
  {
   "cell_type": "markdown",
   "metadata": {},
   "source": [
    "## A Deeper Dive into self"
   ]
  },
  {
   "cell_type": "markdown",
   "metadata": {},
   "source": [
    "self is a reference to the current instance of the class. It is used within instance methods to refer to the object that the method is being called on. self allows you to access and modify the instance’s attributes and call other methods defined within the class."
   ]
  },
  {
   "cell_type": "code",
   "execution_count": 177,
   "metadata": {},
   "outputs": [],
   "source": [
    "# more on self\n",
    "class Student():\n",
    "    \n",
    "    def add_name(self,name):\n",
    "        self.name =  name\n",
    "    \n",
    "    def mark_as_absent(self):\n",
    "        \n",
    "        self.absent =  True\n",
    "        \n",
    "        self.print_student_status()\n",
    "        \n",
    "    def mark_as_present(self):\n",
    "        self.absent = False\n",
    "        \n",
    "        self.print_student_status()\n",
    "        \n",
    "\n",
    "    def print_student_status(self):\n",
    "        \n",
    "        if self.absent :\n",
    "            print(\"student is absent\")\n",
    "        else:\n",
    "            print(\"student is present\")\n",
    "\n"
   ]
  },
  {
   "cell_type": "code",
   "execution_count": 178,
   "metadata": {},
   "outputs": [
    {
     "name": "stdout",
     "output_type": "stream",
     "text": [
      "student is present\n"
     ]
    }
   ],
   "source": [
    "filda =  Student()\n",
    "filda.add_name(\"filda \")\n",
    "\n",
    "filda.mark_as_present()"
   ]
  },
  {
   "cell_type": "code",
   "execution_count": 179,
   "metadata": {},
   "outputs": [
    {
     "name": "stdout",
     "output_type": "stream",
     "text": [
      "student is present\n"
     ]
    }
   ],
   "source": [
    "filda.print_student_status()"
   ]
  },
  {
   "cell_type": "code",
   "execution_count": 180,
   "metadata": {},
   "outputs": [
    {
     "name": "stdout",
     "output_type": "stream",
     "text": [
      "student is absent\n"
     ]
    }
   ],
   "source": [
    "filda.mark_as_absent()"
   ]
  },
  {
   "cell_type": "code",
   "execution_count": 181,
   "metadata": {},
   "outputs": [
    {
     "name": "stdout",
     "output_type": "stream",
     "text": [
      "student is absent\n"
     ]
    }
   ],
   "source": [
    "filda.print_student_status()"
   ]
  },
  {
   "cell_type": "code",
   "execution_count": 182,
   "metadata": {},
   "outputs": [
    {
     "data": {
      "text/plain": [
       "'filda '"
      ]
     },
     "execution_count": 182,
     "metadata": {},
     "output_type": "execute_result"
    }
   ],
   "source": [
    "filda.name"
   ]
  },
  {
   "cell_type": "markdown",
   "metadata": {},
   "source": [
    "## Object Initialization"
   ]
  },
  {
   "cell_type": "markdown",
   "metadata": {},
   "source": [
    "By using the __init__ method, you can initialize instances of objects with defined attributes. Without this, attributes are not defined until other methods are called to populate these fields, or you set attributes manually."
   ]
  },
  {
   "cell_type": "code",
   "execution_count": 183,
   "metadata": {},
   "outputs": [],
   "source": [
    "# without params\n"
   ]
  },
  {
   "cell_type": "code",
   "execution_count": null,
   "metadata": {},
   "outputs": [],
   "source": []
  },
  {
   "cell_type": "code",
   "execution_count": 184,
   "metadata": {},
   "outputs": [],
   "source": [
    "# with params \n",
    "# also show with default params\n"
   ]
  },
  {
   "cell_type": "markdown",
   "metadata": {},
   "source": [
    "instantiante student with properties "
   ]
  },
  {
   "cell_type": "code",
   "execution_count": null,
   "metadata": {},
   "outputs": [],
   "source": []
  },
  {
   "cell_type": "markdown",
   "metadata": {},
   "source": [
    "## inheritance "
   ]
  },
  {
   "cell_type": "markdown",
   "metadata": {},
   "source": [
    "\n",
    "Inheritance is one of the core principles of Object-Oriented Programming (OOP). It allows a new class (called a child class or subclass) to inherit properties (attributes) and behaviors (methods) from an existing class (called a parent class or superclass). This helps to promote code reusability and establish a relationship between the parent and child classes."
   ]
  },
  {
   "cell_type": "code",
   "execution_count": null,
   "metadata": {},
   "outputs": [],
   "source": []
  },
  {
   "cell_type": "markdown",
   "metadata": {},
   "source": [
    "# importing OOP Libraries "
   ]
  },
  {
   "cell_type": "markdown",
   "metadata": {},
   "source": [
    "## Direct imports"
   ]
  },
  {
   "cell_type": "code",
   "execution_count": 185,
   "metadata": {},
   "outputs": [],
   "source": [
    "# example  \n"
   ]
  },
  {
   "cell_type": "code",
   "execution_count": 186,
   "metadata": {},
   "outputs": [],
   "source": [
    "# usage \n"
   ]
  },
  {
   "cell_type": "markdown",
   "metadata": {},
   "source": [
    "## Indirect exports"
   ]
  },
  {
   "cell_type": "code",
   "execution_count": 187,
   "metadata": {},
   "outputs": [],
   "source": [
    "# example "
   ]
  },
  {
   "cell_type": "code",
   "execution_count": 188,
   "metadata": {},
   "outputs": [],
   "source": [
    "# usage "
   ]
  }
 ],
 "metadata": {
  "kernelspec": {
   "display_name": "Python 3 (ipykernel)",
   "language": "python",
   "name": "python3"
  },
  "language_info": {
   "codemirror_mode": {
    "name": "ipython",
    "version": 3
   },
   "file_extension": ".py",
   "mimetype": "text/x-python",
   "name": "python",
   "nbconvert_exporter": "python",
   "pygments_lexer": "ipython3",
   "version": "3.12.3"
  }
 },
 "nbformat": 4,
 "nbformat_minor": 4
}
