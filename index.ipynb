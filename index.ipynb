{
 "cells": [
  {
   "cell_type": "markdown",
   "metadata": {},
   "source": [
    "# OOP (Object Oriented Programing)"
   ]
  },
  {
   "cell_type": "markdown",
   "metadata": {},
   "source": [
    "Object-Oriented Programming (OOP) is a programming paradigm that organizes software design around objects rather than functions or logic. An object is a self-contained unit that contains both data (attributes) and procedures (methods) that operate on the data. OOP allows developers to structure their code in a more modular, reusable, and maintainable way, making it easier to manage and scale complex software systems."
   ]
  },
  {
   "cell_type": "markdown",
   "metadata": {},
   "source": [
    "## Class"
   ]
  },
  {
   "cell_type": "markdown",
   "metadata": {},
   "source": [
    "In Object-Oriented Programming (OOP), a class is a blueprint or template for creating objects (instances). It defines a set of attributes (variables) and methods (functions) that describe the behaviors and properties of the objects created from that class. In Python, classes allow you to encapsulate related data and functions into a single unit, facilitating modularity, reusability, and organization of code"
   ]
  },
  {
   "cell_type": "code",
   "execution_count": 521,
   "metadata": {},
   "outputs": [],
   "source": [
    "# variables without class \n",
    "\n",
    "# name \n",
    "# email\n",
    "# phone\n",
    "\n",
    "name  = \"samuel karu\"\n",
    "email = \"samuel@test.com\"\n",
    "phone = \"0714 xxx xxx\"\n"
   ]
  },
  {
   "cell_type": "code",
   "execution_count": 522,
   "metadata": {},
   "outputs": [],
   "source": [
    "# defining an empty class \n",
    "class Student():\n",
    "    #object body\n",
    "    pass\n"
   ]
  },
  {
   "cell_type": "markdown",
   "metadata": {},
   "source": [
    "## instances"
   ]
  },
  {
   "cell_type": "markdown",
   "metadata": {},
   "source": [
    "An instance of a class in Object-Oriented Programming (OOP) refers to a specific object created from a class. When a class is defined, it acts as a blueprint or template, but the actual \"real-world\" objects created based on that blueprint are called instances."
   ]
  },
  {
   "cell_type": "code",
   "execution_count": 523,
   "metadata": {},
   "outputs": [],
   "source": [
    "# an instance of a class \n",
    "daniel = Student()\n",
    "samuel = Student()\n",
    "peter  =  Student()"
   ]
  },
  {
   "cell_type": "code",
   "execution_count": 524,
   "metadata": {},
   "outputs": [
    {
     "name": "stdout",
     "output_type": "stream",
     "text": [
      "<__main__.Student object at 0x780ee27e8c20>\n"
     ]
    }
   ],
   "source": [
    "# instance \n",
    "\n",
    "print(samuel)\n"
   ]
  },
  {
   "cell_type": "code",
   "execution_count": 525,
   "metadata": {},
   "outputs": [
    {
     "name": "stdout",
     "output_type": "stream",
     "text": [
      "False\n"
     ]
    }
   ],
   "source": [
    "# check Equality \n",
    "print(daniel == samuel)"
   ]
  },
  {
   "cell_type": "markdown",
   "metadata": {},
   "source": [
    "## Instance Methods "
   ]
  },
  {
   "cell_type": "markdown",
   "metadata": {},
   "source": [
    "Instance methods are functions that are defined within a class and operate on the instances (objects) of that class. They are used to define behaviors or actions that an object (instance) can perform. Instance methods can access and modify the instance's attributes (data) and can also interact with other instance methods of the same class."
   ]
  },
  {
   "cell_type": "code",
   "execution_count": 526,
   "metadata": {},
   "outputs": [],
   "source": [
    "# class with an instance method\n",
    "class Student():\n",
    "    \n",
    "    def mark_as_absent(self):\n",
    "        \n",
    "        self.absent =  True\n",
    "        \n",
    "        self.print_student_status()\n",
    "\n",
    "    def print_student_status(self):\n",
    "        \n",
    "        if self.absent :\n",
    "            print(\"student is absent\")\n",
    "        else:\n",
    "            print(\"student is present\")\n"
   ]
  },
  {
   "cell_type": "code",
   "execution_count": 527,
   "metadata": {},
   "outputs": [],
   "source": [
    "# initialitization \n",
    "\n",
    "chris = Student()\n",
    "samuel = Student()\n"
   ]
  },
  {
   "cell_type": "code",
   "execution_count": 528,
   "metadata": {},
   "outputs": [
    {
     "name": "stdout",
     "output_type": "stream",
     "text": [
      "student is absent\n"
     ]
    }
   ],
   "source": [
    "#calling the instance method chris\n",
    "chris.mark_as_absent()\n",
    "# chris.print_student_status()\n"
   ]
  },
  {
   "cell_type": "code",
   "execution_count": 529,
   "metadata": {},
   "outputs": [
    {
     "name": "stdout",
     "output_type": "stream",
     "text": [
      "student is absent\n"
     ]
    }
   ],
   "source": [
    "# checking the result samuel\n",
    "samuel.mark_as_absent()\n",
    "# samuel.print_student_status()\n",
    "\n"
   ]
  },
  {
   "cell_type": "markdown",
   "metadata": {},
   "source": [
    "## A Deeper Dive into self"
   ]
  },
  {
   "cell_type": "markdown",
   "metadata": {},
   "source": [
    "self is a reference to the current instance of the class. It is used within instance methods to refer to the object that the method is being called on. self allows you to access and modify the instance’s attributes and call other methods defined within the class."
   ]
  },
  {
   "cell_type": "code",
   "execution_count": 530,
   "metadata": {},
   "outputs": [],
   "source": [
    "# more on self\n",
    "class Student():\n",
    "    \n",
    "    def add_name(self,name):\n",
    "        self.name =  name\n",
    "    \n",
    "    def mark_as_absent(self):\n",
    "        \n",
    "        self.absent =  True\n",
    "        \n",
    "        self.print_student_status()\n",
    "        \n",
    "    def mark_as_present(self):\n",
    "        self.absent = False\n",
    "        \n",
    "        self.print_student_status()\n",
    "        \n",
    "\n",
    "    def print_student_status(self):\n",
    "        \n",
    "        if self.absent :\n",
    "            print(\"student is absent\")\n",
    "        else:\n",
    "            print(\"student is present\")\n",
    "\n"
   ]
  },
  {
   "cell_type": "code",
   "execution_count": 531,
   "metadata": {},
   "outputs": [],
   "source": [
    "filda =  Student()"
   ]
  },
  {
   "cell_type": "code",
   "execution_count": 532,
   "metadata": {},
   "outputs": [],
   "source": [
    "# filda.name"
   ]
  },
  {
   "cell_type": "code",
   "execution_count": 533,
   "metadata": {},
   "outputs": [
    {
     "name": "stdout",
     "output_type": "stream",
     "text": [
      "student is present\n"
     ]
    }
   ],
   "source": [
    "\n",
    "filda.add_name(\"filda \")\n",
    "\n",
    "filda.mark_as_present()"
   ]
  },
  {
   "cell_type": "code",
   "execution_count": 534,
   "metadata": {},
   "outputs": [
    {
     "name": "stdout",
     "output_type": "stream",
     "text": [
      "student is present\n"
     ]
    }
   ],
   "source": [
    "filda.print_student_status()"
   ]
  },
  {
   "cell_type": "code",
   "execution_count": 535,
   "metadata": {},
   "outputs": [
    {
     "name": "stdout",
     "output_type": "stream",
     "text": [
      "student is absent\n"
     ]
    }
   ],
   "source": [
    "filda.mark_as_absent()"
   ]
  },
  {
   "cell_type": "code",
   "execution_count": 536,
   "metadata": {},
   "outputs": [
    {
     "name": "stdout",
     "output_type": "stream",
     "text": [
      "student is absent\n"
     ]
    }
   ],
   "source": [
    "filda.print_student_status()"
   ]
  },
  {
   "cell_type": "code",
   "execution_count": 537,
   "metadata": {},
   "outputs": [
    {
     "data": {
      "text/plain": [
       "'filda '"
      ]
     },
     "execution_count": 537,
     "metadata": {},
     "output_type": "execute_result"
    }
   ],
   "source": [
    "filda.name"
   ]
  },
  {
   "cell_type": "markdown",
   "metadata": {},
   "source": [
    "## Object Initialization"
   ]
  },
  {
   "cell_type": "markdown",
   "metadata": {},
   "source": [
    "By using the __init__ method, you can initialize instances of objects with defined attributes. Without this, attributes are not defined until other methods are called to populate these fields, or you set attributes manually."
   ]
  },
  {
   "cell_type": "code",
   "execution_count": 538,
   "metadata": {},
   "outputs": [],
   "source": [
    "# without params\n",
    "\n",
    "class Student():\n",
    "    \n",
    "    def __init__(self):\n",
    "        self.absent = False\n",
    "        print(\"i was created\")\n",
    "    \n",
    "    def mark_as_absent(self):\n",
    "        \n",
    "        self.absent =  True\n",
    "        \n",
    "        self.print_student_status()\n",
    "        \n",
    "    def mark_as_present(self):\n",
    "        self.absent = False\n",
    "        \n",
    "        self.print_student_status()\n",
    "        \n",
    "\n",
    "    def print_student_status(self):\n",
    "        \n",
    "        if self.absent :\n",
    "            print(\"student is absent\")\n",
    "        else:\n",
    "            print(\"student is present\")\n"
   ]
  },
  {
   "cell_type": "code",
   "execution_count": 539,
   "metadata": {},
   "outputs": [
    {
     "name": "stdout",
     "output_type": "stream",
     "text": [
      "i was created\n"
     ]
    },
    {
     "data": {
      "text/plain": [
       "<__main__.Student at 0x780ee27e8c20>"
      ]
     },
     "execution_count": 539,
     "metadata": {},
     "output_type": "execute_result"
    }
   ],
   "source": [
    "Student()\n"
   ]
  },
  {
   "cell_type": "code",
   "execution_count": 540,
   "metadata": {},
   "outputs": [],
   "source": [
    "# with params \n",
    "# also show with default params\n",
    "\n",
    "# without params\n",
    "\n",
    "class Student():\n",
    "    \n",
    "    def __init__(self,name,email,phone=\"unkown\"):\n",
    "        self.absent = False\n",
    "        self.name = name\n",
    "        self.email = email\n",
    "        self.phone = phone\n",
    "        print(f\"{name} was created\")\n",
    "    \n",
    "    def mark_as_absent(self):\n",
    "        \n",
    "        self.absent =  True\n",
    "        \n",
    "        self.print_student_status()\n",
    "        \n",
    "    def mark_as_present(self):\n",
    "        self.absent = False\n",
    "        \n",
    "        self.print_student_status()\n",
    "        \n",
    "\n",
    "    def print_student_status(self):\n",
    "        \n",
    "        if self.absent :\n",
    "            print(\"student is absent\")\n",
    "        else:\n",
    "            print(\"student is present\")\n"
   ]
  },
  {
   "cell_type": "markdown",
   "metadata": {},
   "source": [
    "instantiante student with properties "
   ]
  },
  {
   "cell_type": "code",
   "execution_count": 541,
   "metadata": {},
   "outputs": [
    {
     "name": "stdout",
     "output_type": "stream",
     "text": [
      "john kariuki was created\n"
     ]
    }
   ],
   "source": [
    "kariuki = Student(name=\"john kariuki\",email=\"kariuki@gmail.com\",phone=\"0714 xxx xxx\")"
   ]
  },
  {
   "cell_type": "code",
   "execution_count": 542,
   "metadata": {},
   "outputs": [
    {
     "name": "stdout",
     "output_type": "stream",
     "text": [
      "Betty Koila was created\n"
     ]
    }
   ],
   "source": [
    "betty = Student(name=\"Betty Koila\",email=\"Betty@test.com\")"
   ]
  },
  {
   "cell_type": "code",
   "execution_count": 543,
   "metadata": {},
   "outputs": [
    {
     "data": {
      "text/plain": [
       "'john kariuki'"
      ]
     },
     "execution_count": 543,
     "metadata": {},
     "output_type": "execute_result"
    }
   ],
   "source": [
    "kariuki.name"
   ]
  },
  {
   "cell_type": "code",
   "execution_count": 544,
   "metadata": {},
   "outputs": [
    {
     "data": {
      "text/plain": [
       "'Betty@test.com'"
      ]
     },
     "execution_count": 544,
     "metadata": {},
     "output_type": "execute_result"
    }
   ],
   "source": [
    "betty.email"
   ]
  },
  {
   "cell_type": "code",
   "execution_count": 545,
   "metadata": {},
   "outputs": [
    {
     "data": {
      "text/plain": [
       "'unkown'"
      ]
     },
     "execution_count": 545,
     "metadata": {},
     "output_type": "execute_result"
    }
   ],
   "source": [
    "betty.phone"
   ]
  },
  {
   "cell_type": "code",
   "execution_count": 546,
   "metadata": {},
   "outputs": [
    {
     "data": {
      "text/plain": [
       "'0714 xxx xxx'"
      ]
     },
     "execution_count": 546,
     "metadata": {},
     "output_type": "execute_result"
    }
   ],
   "source": [
    "kariuki.phone"
   ]
  },
  {
   "cell_type": "markdown",
   "metadata": {},
   "source": [
    "## inheritance "
   ]
  },
  {
   "cell_type": "markdown",
   "metadata": {},
   "source": [
    "\n",
    "Inheritance is one of the core principles of Object-Oriented Programming (OOP). It allows a new class (called a child class or subclass) to inherit properties (attributes) and behaviors (methods) from an existing class (called a parent class or superclass). This helps to promote code reusability and establish a relationship between the parent and child classes."
   ]
  },
  {
   "cell_type": "code",
   "execution_count": 547,
   "metadata": {},
   "outputs": [],
   "source": [
    "class Person():\n",
    "    def __init__(self,name,email,phone):\n",
    "        self.name = name\n",
    "        self.email = email\n",
    "        self.phone = phone\n",
    "        \n",
    "    def send_message(self,message):\n",
    "        return f\"Hello {self.name} this is your message: {message}\" \n",
    "    "
   ]
  },
  {
   "cell_type": "code",
   "execution_count": 548,
   "metadata": {},
   "outputs": [],
   "source": [
    "class Student(Person):\n",
    "    \n",
    "    \n",
    "    def __init__(self, name, email, phone,school_email):\n",
    "        # defining person\n",
    "        # student is a person\n",
    "        self.school_email = school_email\n",
    "        self.absent  =  False\n",
    "        super().__init__(name, email, phone)\n",
    "        \n",
    "    def mark_as_absent(self):\n",
    "        self.absent =  True\n",
    "        "
   ]
  },
  {
   "cell_type": "code",
   "execution_count": 549,
   "metadata": {},
   "outputs": [],
   "source": [
    "class TM(Person):\n",
    "    \n",
    "    def __init__(self, name, email, phone,work_email):\n",
    "        # Tm is also person \n",
    "        # define person\n",
    "        self.work_email = work_email\n",
    "        super().__init__(name, email, phone)"
   ]
  },
  {
   "cell_type": "code",
   "execution_count": 550,
   "metadata": {},
   "outputs": [],
   "source": [
    "samuel =  Student(name=\"samuel\",email=\"sam@test.com\",phone=\"0714 xxx xxx\",school_email=\"sam@school.com\")"
   ]
  },
  {
   "cell_type": "code",
   "execution_count": 551,
   "metadata": {},
   "outputs": [
    {
     "data": {
      "text/plain": [
       "'Hello samuel this is your message: merry christmas'"
      ]
     },
     "execution_count": 551,
     "metadata": {},
     "output_type": "execute_result"
    }
   ],
   "source": [
    "samuel.send_message(\"merry christmas\")"
   ]
  },
  {
   "cell_type": "code",
   "execution_count": 552,
   "metadata": {},
   "outputs": [],
   "source": [
    "tm_daniel =  TM(name=\"Daniel\",email=\"daniel@test.com\",phone=\"0714 xxx xxx\",work_email=\"daniel@work.com\")"
   ]
  },
  {
   "cell_type": "code",
   "execution_count": 553,
   "metadata": {},
   "outputs": [
    {
     "data": {
      "text/plain": [
       "'Hello Daniel this is your message: Happy new year'"
      ]
     },
     "execution_count": 553,
     "metadata": {},
     "output_type": "execute_result"
    }
   ],
   "source": [
    "tm_daniel.send_message(\"Happy new year\")"
   ]
  },
  {
   "cell_type": "markdown",
   "metadata": {},
   "source": [
    "# importing OOP Libraries "
   ]
  },
  {
   "cell_type": "markdown",
   "metadata": {},
   "source": [
    "## Direct imports"
   ]
  },
  {
   "cell_type": "code",
   "execution_count": 554,
   "metadata": {},
   "outputs": [],
   "source": [
    "# example  \n",
    "\n",
    "import person as p \n"
   ]
  },
  {
   "cell_type": "code",
   "execution_count": 558,
   "metadata": {},
   "outputs": [
    {
     "name": "stdout",
     "output_type": "stream",
     "text": [
      "Student is present \n"
     ]
    }
   ],
   "source": [
    "# usage \n",
    "samuel =  p.Student(name=\"samuel\",email=\"sam@test.com\",phone=\"0714 xxx xxx\",student_email=\"sam@school.com\")\n",
    "\n",
    "samuel.print_student_status()"
   ]
  },
  {
   "cell_type": "markdown",
   "metadata": {},
   "source": [
    "## Indirect Imports"
   ]
  },
  {
   "cell_type": "code",
   "execution_count": null,
   "metadata": {},
   "outputs": [],
   "source": [
    "# example \n",
    "from person import  TM,Student,Person"
   ]
  },
  {
   "cell_type": "code",
   "execution_count": 559,
   "metadata": {},
   "outputs": [],
   "source": [
    "# usage \n",
    "daniel = TM(name=\"Daniel\",email=\"daniel@test.com\",phone=\"0714 xxx xxx\",work_email=\"daniel@work.com\")"
   ]
  },
  {
   "cell_type": "code",
   "execution_count": 560,
   "metadata": {},
   "outputs": [
    {
     "data": {
      "text/plain": [
       "'Hello Daniel this is your message: Merry christmass'"
      ]
     },
     "execution_count": 560,
     "metadata": {},
     "output_type": "execute_result"
    }
   ],
   "source": [
    "daniel.send_message(\"Merry christmass\")"
   ]
  },
  {
   "cell_type": "code",
   "execution_count": null,
   "metadata": {},
   "outputs": [],
   "source": [
    "from sklearn.linear_model import LinearRegression\n",
    "\n",
    "from sklearn.tree import DecisionTreeClassifier"
   ]
  },
  {
   "cell_type": "code",
   "execution_count": null,
   "metadata": {},
   "outputs": [],
   "source": [
    "import sklearn"
   ]
  },
  {
   "cell_type": "code",
   "execution_count": null,
   "metadata": {},
   "outputs": [],
   "source": [
    "import sklearn.linear_model\n",
    "\n",
    "\n",
    "model =  sklearn.linear_model.LinearRegression()"
   ]
  }
 ],
 "metadata": {
  "kernelspec": {
   "display_name": "venv",
   "language": "python",
   "name": "python3"
  },
  "language_info": {
   "codemirror_mode": {
    "name": "ipython",
    "version": 3
   },
   "file_extension": ".py",
   "mimetype": "text/x-python",
   "name": "python",
   "nbconvert_exporter": "python",
   "pygments_lexer": "ipython3",
   "version": "3.12.3"
  }
 },
 "nbformat": 4,
 "nbformat_minor": 4
}
