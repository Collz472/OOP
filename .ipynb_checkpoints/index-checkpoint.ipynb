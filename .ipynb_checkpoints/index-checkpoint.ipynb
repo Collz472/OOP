{
 "cells": [
  {
   "cell_type": "markdown",
   "metadata": {},
   "source": [
    "# OOP (Object Oriented Programing)"
   ]
  },
  {
   "cell_type": "markdown",
   "metadata": {},
   "source": [
    "Object-Oriented Programming (OOP) is a programming paradigm that organizes software design around objects rather than functions or logic. An object is a self-contained unit that contains both data (attributes) and procedures (methods) that operate on the data. OOP allows developers to structure their code in a more modular, reusable, and maintainable way, making it easier to manage and scale complex software systems."
   ]
  },
  {
   "cell_type": "markdown",
   "metadata": {},
   "source": [
    "## Class"
   ]
  },
  {
   "cell_type": "markdown",
   "metadata": {},
   "source": [
    "In Object-Oriented Programming (OOP), a class is a blueprint or template for creating objects (instances). It defines a set of attributes (variables) and methods (functions) that describe the behaviors and properties of the objects created from that class. In Python, classes allow you to encapsulate related data and functions into a single unit, facilitating modularity, reusability, and organization of code"
   ]
  },
  {
   "cell_type": "code",
   "execution_count": 23,
   "metadata": {},
   "outputs": [],
   "source": [
    "# variables without class \n",
    "\n",
    "# name \n",
    "# email\n",
    "# phone\n",
    "\n",
    "name =  \"samuel karu\"\n",
    "email = \"samuel.karu@moringaschool.com\"\n",
    "phone  =  \"0714254837\""
   ]
  },
  {
   "cell_type": "code",
   "execution_count": 24,
   "metadata": {},
   "outputs": [],
   "source": [
    "# defining an empty class \n",
    "class Student():\n",
    "    pass"
   ]
  },
  {
   "cell_type": "markdown",
   "metadata": {},
   "source": [
    "## instances"
   ]
  },
  {
   "cell_type": "markdown",
   "metadata": {},
   "source": [
    "An instance of a class in Object-Oriented Programming (OOP) refers to a specific object created from a class. When a class is defined, it acts as a blueprint or template, but the actual \"real-world\" objects created based on that blueprint are called instances."
   ]
  },
  {
   "cell_type": "code",
   "execution_count": 25,
   "metadata": {},
   "outputs": [],
   "source": [
    "student = Student() \n",
    "student2 = Student()"
   ]
  },
  {
   "cell_type": "code",
   "execution_count": 26,
   "metadata": {},
   "outputs": [
    {
     "name": "stdout",
     "output_type": "stream",
     "text": [
      "<__main__.Student object at 0x740c5856cfe0>\n"
     ]
    }
   ],
   "source": [
    "print(student)"
   ]
  },
  {
   "cell_type": "code",
   "execution_count": 27,
   "metadata": {},
   "outputs": [
    {
     "name": "stdout",
     "output_type": "stream",
     "text": [
      "False\n"
     ]
    }
   ],
   "source": [
    "# check Equality \n",
    "\n",
    "print(student == student2)"
   ]
  },
  {
   "cell_type": "markdown",
   "metadata": {},
   "source": [
    "## Instance Methods "
   ]
  },
  {
   "cell_type": "markdown",
   "metadata": {},
   "source": [
    "Instance methods are functions that are defined within a class and operate on the instances (objects) of that class. They are used to define behaviors or actions that an object (instance) can perform. Instance methods can access and modify the instance's attributes (data) and can also interact with other instance methods of the same class."
   ]
  },
  {
   "cell_type": "code",
   "execution_count": 28,
   "metadata": {},
   "outputs": [],
   "source": [
    "# class with an instance method\n",
    "class Student():\n",
    "    \n",
    "    def mark_as_absent(self):\n",
    "        self.absent = True"
   ]
  },
  {
   "cell_type": "code",
   "execution_count": 29,
   "metadata": {},
   "outputs": [],
   "source": [
    "# initialitization \n",
    "sam =  Student()"
   ]
  },
  {
   "cell_type": "code",
   "execution_count": 30,
   "metadata": {},
   "outputs": [],
   "source": [
    "#calling the instance method\n",
    "sam.mark_as_absent()"
   ]
  },
  {
   "cell_type": "code",
   "execution_count": 31,
   "metadata": {},
   "outputs": [
    {
     "data": {
      "text/plain": [
       "True"
      ]
     },
     "execution_count": 31,
     "metadata": {},
     "output_type": "execute_result"
    }
   ],
   "source": [
    "# checking the result\n",
    "sam.absent"
   ]
  },
  {
   "cell_type": "markdown",
   "metadata": {},
   "source": [
    "## A Deeper Dive into self"
   ]
  },
  {
   "cell_type": "markdown",
   "metadata": {},
   "source": [
    "self is a reference to the current instance of the class. It is used within instance methods to refer to the object that the method is being called on. self allows you to access and modify the instance’s attributes and call other methods defined within the class."
   ]
  },
  {
   "cell_type": "code",
   "execution_count": 32,
   "metadata": {},
   "outputs": [],
   "source": [
    "class Student():\n",
    "   \n",
    "    def mark_as_absent(self):\n",
    "        self.absent = True\n",
    "        self.print_student_status()\n",
    "        \n",
    "    def mark_as_present(self):\n",
    "        self.absent = False\n",
    "        self.print_student_status()\n",
    "         \n",
    "        \n",
    "        \n",
    "    def print_student_status(self):\n",
    "        if self.absent:\n",
    "            print(\"Student is absent\")\n",
    "        else:\n",
    "            print(\"Student is present \")"
   ]
  },
  {
   "cell_type": "code",
   "execution_count": 33,
   "metadata": {},
   "outputs": [
    {
     "name": "stdout",
     "output_type": "stream",
     "text": [
      "Student is present \n"
     ]
    }
   ],
   "source": [
    "late_student =  Student()\n",
    "\n",
    "late_student.mark_as_present()\n"
   ]
  },
  {
   "cell_type": "markdown",
   "metadata": {},
   "source": [
    "## Object Initialization"
   ]
  },
  {
   "cell_type": "markdown",
   "metadata": {},
   "source": [
    "By using the __init__ method, you can initialize instances of objects with defined attributes. Without this, attributes are not defined until other methods are called to populate these fields, or you set attributes manually."
   ]
  },
  {
   "cell_type": "code",
   "execution_count": 34,
   "metadata": {},
   "outputs": [],
   "source": [
    "# without params\n",
    "\n",
    "# with params \n",
    "class Student():\n",
    "    \n",
    "    def __init__(self):\n",
    "        self.absent = False\n",
    "   \n",
    "    def mark_as_absent(self):\n",
    "        self.absent = True\n",
    "        self.print_student_status()\n",
    "        \n",
    "    def mark_as_present(self):\n",
    "        self.absent = False\n",
    "        self.print_student_status()\n",
    "         \n",
    "        \n",
    "        \n",
    "    def print_student_status(self):\n",
    "        if self.absent:\n",
    "            print(\"Student is absent\")\n",
    "        else:\n",
    "            print(\"Student is present \")"
   ]
  },
  {
   "cell_type": "code",
   "execution_count": 35,
   "metadata": {},
   "outputs": [
    {
     "name": "stdout",
     "output_type": "stream",
     "text": [
      "Student is present \n"
     ]
    }
   ],
   "source": [
    "student = Student()\n",
    "student.print_student_status()"
   ]
  },
  {
   "cell_type": "code",
   "execution_count": 36,
   "metadata": {},
   "outputs": [],
   "source": [
    "# with params \n",
    "# also show with default params\n",
    "class Student():\n",
    "    \n",
    "    def __init__(self,name,email,phone=\"unkown\"):\n",
    "        self.name = name\n",
    "        self.email = email\n",
    "        self.phone = phone\n",
    "        self.absent = False\n",
    "   \n",
    "    def mark_as_absent(self):\n",
    "        self.absent = True\n",
    "        self.print_student_status()\n",
    "        \n",
    "    def mark_as_present(self):\n",
    "        self.absent = False\n",
    "        self.print_student_status()\n",
    "         \n",
    "        \n",
    "        \n",
    "    def print_student_status(self):\n",
    "        if self.absent:\n",
    "            print(\"Student is absent\")\n",
    "        else:\n",
    "            print(\"Student is present \")"
   ]
  },
  {
   "cell_type": "markdown",
   "metadata": {},
   "source": [
    "instantiante student with properties "
   ]
  },
  {
   "cell_type": "code",
   "execution_count": 37,
   "metadata": {},
   "outputs": [
    {
     "name": "stdout",
     "output_type": "stream",
     "text": [
      "Student is present \n"
     ]
    }
   ],
   "source": [
    "chris = Student(name=\"chris kamau\",email=\"chris.kamau@gmail.com\",phone=\"0714254837\")\n",
    "\n",
    "chris.print_student_status()"
   ]
  },
  {
   "cell_type": "markdown",
   "metadata": {},
   "source": [
    "## inheritance "
   ]
  },
  {
   "cell_type": "markdown",
   "metadata": {},
   "source": [
    "\n",
    "Inheritance is one of the core principles of Object-Oriented Programming (OOP). It allows a new class (called a child class or subclass) to inherit properties (attributes) and behaviors (methods) from an existing class (called a parent class or superclass). This helps to promote code reusability and establish a relationship between the parent and child classes."
   ]
  },
  {
   "cell_type": "code",
   "execution_count": 38,
   "metadata": {},
   "outputs": [],
   "source": [
    "class Person():\n",
    "    def __init__(self,name,email,phone):\n",
    "        self.name = name\n",
    "        self.email = email\n",
    "        self.phone = phone\n",
    "        \n",
    "class student(Person):\n",
    "\n",
    "    def _init_(self,name,email,phone,student_email,cohort):\n",
    "        super().__init__(self,name,email,phone)\n",
    "        self.student_email = email\n",
    "        \n",
    "class TM(Person):\n",
    "    \n",
    "    def __init__(self, name, email, phone,work_email):\n",
    "        super().__init__(name, email, phone)\n",
    "        self.work_email = work_email\n",
    "        "
   ]
  },
  {
   "cell_type": "markdown",
   "metadata": {},
   "source": [
    "# importing OOP Libraries "
   ]
  },
  {
   "cell_type": "markdown",
   "metadata": {},
   "source": [
    "## Direct imports"
   ]
  },
  {
   "cell_type": "code",
   "execution_count": 39,
   "metadata": {},
   "outputs": [],
   "source": [
    "# example  \n",
    "import person as p"
   ]
  },
  {
   "cell_type": "code",
   "execution_count": 40,
   "metadata": {},
   "outputs": [
    {
     "data": {
      "text/plain": [
       "'Hello  samuel here is a message for you happy holidays'"
      ]
     },
     "execution_count": 40,
     "metadata": {},
     "output_type": "execute_result"
    }
   ],
   "source": [
    "\n",
    "student =  p.Student(\"samuel\",\"samuel@gmail.com\",\"0714 xxx xxx\",\"tesr\")\n",
    "student.send_message(\"happy holidays\")"
   ]
  },
  {
   "cell_type": "markdown",
   "metadata": {},
   "source": [
    "## Indirect exports"
   ]
  },
  {
   "cell_type": "code",
   "execution_count": null,
   "metadata": {},
   "outputs": [],
   "source": [
    "# example \n",
    "from person import Student as st"
   ]
  },
  {
   "cell_type": "code",
   "execution_count": 42,
   "metadata": {},
   "outputs": [
    {
     "data": {
      "text/plain": [
       "'Hello  samuel here is a message for you you have won a free laptop'"
      ]
     },
     "execution_count": 42,
     "metadata": {},
     "output_type": "execute_result"
    }
   ],
   "source": [
    "student  = st(\"samuel\",\"samuel@gmail.com\",\"0714 xxx xxx\",student_email=\"samuel@student.com\")\n",
    "\n",
    "student.send_message(\"you have won a free laptop\")"
   ]
  }
 ],
 "metadata": {
  "kernelspec": {
   "display_name": "venv",
   "language": "python",
   "name": "python3"
  },
  "language_info": {
   "codemirror_mode": {
    "name": "ipython",
    "version": 3
   },
   "file_extension": ".py",
   "mimetype": "text/x-python",
   "name": "python",
   "nbconvert_exporter": "python",
   "pygments_lexer": "ipython3",
   "version": "3.12.3"
  }
 },
 "nbformat": 4,
 "nbformat_minor": 2
}
